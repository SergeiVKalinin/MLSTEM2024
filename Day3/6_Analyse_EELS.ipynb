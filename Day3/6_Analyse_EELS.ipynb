{
 "cells": [
  {
   "cell_type": "markdown",
   "metadata": {
    "hideCode": false,
    "hidePrompt": false
   },
   "source": [
    "<font size = \"5\"> **Day 3: [Energy Dispersive X-Ray Spectroscopy, Principal Component Analysis, and Non-\n",
    "Negative Matrix Factorization](../MLSTEM2024.ipynb)** </font>\n",
    "\n",
    "<hr style=\"height:1px;border-top:4px solid #FF8200\" />\n",
    "\n",
    "[Download](https://raw.githubusercontent.com/gduscher/MLSTEM2024//main/Day3/6_Analyse_EELS.ipynb)\n",
    "\n",
    "[![OpenInColab](https://colab.research.google.com/assets/colab-badge.svg)](\n",
    "    https://colab.research.google.com/github/gduscher/MLSTEM2024/blob/main/Day3/6_Analyse_EELS.ipynb)\n",
    "\n",
    "\n",
    "# Analysis of Electron Energy-Loss Spectra\n",
    "Lecturer: Gerd Duscher\n",
    "\n",
    "part of the workshop of \n",
    "\n",
    "<font size = \"5\"> **[Machine Learning in Scanning Transmission Electron Microscopy](../_MLSTEM.ipynb)**</font>\n",
    "\n",
    "\n",
    "**Day3: Energy Dispersive X-Ray Spectroscopy, Principal Component Analysis, and Non-\n",
    "Negative Matrix Factorization**\n",
    "<table style=\"margin-right:auto;margin-left:0px\">\n",
    "  <tr>\n",
    "    <td>Gerd Duscher </td>\n",
    "    <td>Sergei Kalinin</td>\n",
    "  </tr>\n",
    "  <tr>\n",
    "    <td colspan=\"2\"><center>Microscopy Facilities</td> \n",
    "  </tr>\n",
    "  \n",
    "  <tr>\n",
    "    <td colspan=\"2\"><center>Materials Science & Engineering</td>\n",
    "    <td></td>\n",
    "  </tr>\n",
    "  <tr>\n",
    "    <td colspan=\"2\"><center>Institute of Advanced Materials & Manufacturing</td>\n",
    "  </tr>\n",
    "  <tr>\n",
    "    <td colspan=\"2\"><center> The University of Tennessee, Knoxville</center> </td>\n",
    "  </tr>\n",
    "</table>\n",
    "        \n",
    "**June 2024**\n",
    "\n"
   ]
  },
  {
   "cell_type": "markdown",
   "metadata": {
    "hideCode": false,
    "hidePrompt": false
   },
   "source": [
    "## Content\n",
    "We use widgets to form a dashboard that allows to combine the analysis of low_loss and core-loss data comprehensively.\n",
    "\n",
    "\n",
    "## Load important packages\n",
    "\n",
    "### Check Installed Packages\n"
   ]
  },
  {
   "cell_type": "code",
   "execution_count": null,
   "metadata": {},
   "outputs": [],
   "source": [
    "import sys\n",
    "import importlib.metadata\n",
    "def test_package(package_name):\n",
    "    \"\"\"Test if package exists and returns version or -1\"\"\"\n",
    "    try:\n",
    "        version = importlib.metadata.version(package_name)\n",
    "    except importlib.metadata.PackageNotFoundError:\n",
    "        version = '-1'\n",
    "    return version\n",
    "\n",
    "# pyTEMlib setup ------------------\n",
    "if test_package('pyTEMlib') < '0.2024.5.0':\n",
    "    print('installing pyTEMlib')\n",
    "    !{sys.executable} -m pip install --upgrade git+https://github.com/pycroscopy/pyTEMlib.git@main -q --upgrade\n",
    "# ------------------------------\n",
    "print('done')"
   ]
  },
  {
   "cell_type": "markdown",
   "metadata": {
    "hideCode": false,
    "hidePrompt": false
   },
   "source": [
    "### Import all relevant libraries\n",
    "\n",
    "Please note that the EELS_tools package from pyTEMlib is essential."
   ]
  },
  {
   "cell_type": "code",
   "execution_count": null,
   "metadata": {
    "ExecuteTime": {
     "start_time": "2024-01-15T14:40:42.347318700Z"
    },
    "hideCode": false,
    "hidePrompt": false,
    "is_executing": true,
    "tags": []
   },
   "outputs": [],
   "source": [
    "%matplotlib widget\n",
    "import matplotlib.pylab as plt\n",
    "import numpy as np\n",
    "\n",
    "import sys\n",
    "sys.path.insert(0, '../../pyTEMlib')\n",
    "\n",
    "%load_ext autoreload\n",
    "%autoreload 2\n",
    "\n",
    "# additional package \n",
    "import ipywidgets as ipyw\n",
    "from scipy.optimize import leastsq, curve_fit  ## fitting routine of scipy\n",
    "\n",
    "if 'google.colab' in sys.modules:\n",
    "    from google.colab import output\n",
    "    output.enable_custom_widget_manager()\n",
    "    from google.colab import drive\n",
    "\n",
    "# Import libraries from the book\n",
    "import pyTEMlib\n",
    "import pyTEMlib.file_tools as ft          # File input/ output library\n",
    "from pyTEMlib import eels_tools  \n",
    "import pyTEMlib.info_widget\n",
    "import pyTEMlib.eels_dialog\n",
    "import pyTEMlib.peak_dialog\n",
    "import pyTEMlib.kinematic_scattering as ks         # Kinematic sCattering Library\n",
    "                             # Atomic form factors from Kirklands book\n",
    "\n",
    "# For archiving reasons it is a good idea to print the version numbers out at this point\n",
    "print('pyTEM version: ',pyTEMlib.__version__)"
   ]
  },
  {
   "cell_type": "markdown",
   "metadata": {
    "hideCode": false,
    "hidePrompt": false
   },
   "source": [
    "## Load and plot a spectrum"
   ]
  },
  {
   "cell_type": "code",
   "execution_count": 4,
   "metadata": {
    "hideCode": false,
    "hidePrompt": false,
    "tags": []
   },
   "outputs": [
    {
     "data": {
      "application/vnd.jupyter.widget-view+json": {
       "model_id": "d6427c07172941abb437df7d5243c99a",
       "version_major": 2,
       "version_minor": 0
      },
      "text/plain": [
       "AppLayout(children=(Tab(children=(GridspecLayout(children=(Dropdown(description='directory:', layout=Layout(gr…"
      ]
     },
     "metadata": {},
     "output_type": "display_data"
    }
   ],
   "source": [
    "if 'google.colab' in sys.modules:\n",
    "    drive.mount(\"/content/drive\")\n",
    "    if not os.path.exists('./STO_Stack_10.dm3'):\n",
    "        !wget  https://github.com/gduscher/MLSTEM2024//raw/main/example_data/1EELS Acquire (low-loss).dm3\n",
    "        !wget  https://github.com/gduscher/MLSTEM2024//raw/main/example_data/1EELS Acquire (high-loss).dm3\n",
    "        !wget  https://github.com/gduscher/MLSTEM2024//raw/main/example_data/AL-DFoffset0.00.dm3\n",
    "        !wget  https://github.com/gduscher/MLSTEM2024//raw/main/example_data/EELS_STO.dm3\n",
    "        \n",
    "infoWidget = pyTEMlib.info_widget.EELSWidget()"
   ]
  },
  {
   "cell_type": "code",
   "execution_count": 5,
   "metadata": {},
   "outputs": [
    {
     "data": {
      "text/plain": [
       "{'experiment': {'single_exposure_time': 2.0,\n",
       "  'exposure_time': 20.0,\n",
       "  'number_of_frames': 10,\n",
       "  'collection_angle': 40.0,\n",
       "  'convergence_angle': 30.0,\n",
       "  'acceleration_voltage': 200000.0,\n",
       "  'flux_ppm': 0.0,\n",
       "  'count_conversion': 1,\n",
       "  'beam_current': 0,\n",
       "  'eff_beta': 33.44829033867034},\n",
       " 'edges': {'fit_area': {'fit_start': 352.5, 'fit_end': 859.5},\n",
       "  '0': {'z': 22,\n",
       "   'symmetry': 'L3',\n",
       "   'element': 'Ti',\n",
       "   'onset': 455.5,\n",
       "   'end_exclude': 505.5,\n",
       "   'start_exclude': 450.5,\n",
       "   'all_edges': {'L3': {'onset': 455.5},\n",
       "    'L2': {'onset': 461.5},\n",
       "    'L1': {'onset': 563.6999999999999}},\n",
       "   'chemical_shift': 0.0,\n",
       "   'areal_density': 6837765797172.749,\n",
       "   'original_onset': 455.5,\n",
       "   'data': array([1.21200872e-09, 1.20937349e-09, 1.20673827e-09, ...,\n",
       "          5.06043951e-10, 5.05500805e-10, 5.04957660e-10]),\n",
       "   'X_section_type': 'XRPA',\n",
       "   'X_section_source': 'pyTEMlib'},\n",
       "  '1': {'z': 8,\n",
       "   'symmetry': 'K1',\n",
       "   'element': 'O',\n",
       "   'onset': 532.0,\n",
       "   'end_exclude': 582.0,\n",
       "   'start_exclude': 527.0,\n",
       "   'all_edges': {'K1': {'onset': 532.0}},\n",
       "   'chemical_shift': 0.0,\n",
       "   'areal_density': 23708618044556.133,\n",
       "   'original_onset': 532.0,\n",
       "   'data': array([2.49935793e-10, 2.49319892e-10, 2.48703991e-10, ...,\n",
       "          1.35368458e-10, 1.35217512e-10, 1.35066567e-10]),\n",
       "   'X_section_type': 'XRPA',\n",
       "   'X_section_source': 'pyTEMlib'},\n",
       "  'model': {'background': energy_loss:  energy-loss (eV) of size (2048,),\n",
       "   'background-poly_0': -18981.708428292266,\n",
       "   'background-poly_1': 82.28815542314042,\n",
       "   'background-poly_2': -0.07493812995512276,\n",
       "   'background-A': 188771333975.40292,\n",
       "   'background-r': -2.3759623357555757,\n",
       "   'spectrum': energy_loss:  energy-loss (eV) of size (2048,),\n",
       "   'blurred': array([183081.86 , 183025.38 , 182917.77 , ...,  23102.238,  23095.361,\n",
       "           23091.861], dtype=float32),\n",
       "   'mask': array([0., 0., 0., ..., 0., 0., 1.]),\n",
       "   'fit_parameter': array([ 1.88771334e+11, -2.37596234e+00, -1.89817084e+04,  8.22881554e+01,\n",
       "          -7.49381300e-02,  6.83776580e+12,  2.37086180e+13]),\n",
       "   'fit_area_start': 352.5,\n",
       "   'fit_area_end': 859.5}}}"
      ]
     },
     "execution_count": 5,
     "metadata": {},
     "output_type": "execute_result"
    }
   ],
   "source": [
    "infoWidget.core_loss.dataset.metadata"
   ]
  },
  {
   "cell_type": "markdown",
   "metadata": {},
   "source": [
    "## peakfit"
   ]
  },
  {
   "cell_type": "markdown",
   "metadata": {},
   "source": [
    "###### from pyTEMlib import peak_dialog"
   ]
  },
  {
   "cell_type": "code",
   "execution_count": 6,
   "metadata": {},
   "outputs": [
    {
     "data": {
      "application/vnd.jupyter.widget-view+json": {
       "model_id": "75e55398d7e340fb92eed8039374c684",
       "version_major": 2,
       "version_minor": 0
      },
      "text/plain": [
       "AppLayout(children=(GridspecLayout(children=(Button(description='Fit Area', layout=Layout(grid_area='widget001…"
      ]
     },
     "metadata": {},
     "output_type": "display_data"
    }
   ],
   "source": [
    "spectrum = infoWidget.selected_dataset\n",
    "peakFitWidget = pyTEMlib.peak_dialog.PeakFitWidget({'core_loss': spectrum})"
   ]
  },
  {
   "cell_type": "code",
   "execution_count": null,
   "metadata": {},
   "outputs": [],
   "source": [
    "infoWidget.selected_dataset.metadata\n"
   ]
  },
  {
   "cell_type": "code",
   "execution_count": 7,
   "metadata": {},
   "outputs": [
    {
     "name": "stdout",
     "output_type": "stream",
     "text": [
      "505.2, 52.64, -48327\n",
      "462.7, 4.39, 106213\n",
      "457.9, 1.85, 84532\n",
      "455.6, 2.23, 55571\n",
      "531.4, 2.50, 25089\n",
      "537.5, 2.78, 12468\n",
      "474.4, 5.30, 6165\n",
      "544.4, 2.22, 12061\n",
      "506.0, 44.29, 49945\n"
     ]
    }
   ],
   "source": [
    "for peak in spectrum.metadata['peak_fit']['peaks'].values():\n",
    "    print (f\"{peak['position']:.1f}, {peak['width']:.2f}, {peak['amplitude']:.0f}\")"
   ]
  },
  {
   "cell_type": "code",
   "execution_count": 8,
   "metadata": {},
   "outputs": [
    {
     "ename": "NameError",
     "evalue": "name 'resolution_functions' is not defined",
     "output_type": "error",
     "traceback": [
      "\u001b[1;31m---------------------------------------------------------------------------\u001b[0m",
      "\u001b[1;31mNameError\u001b[0m                                 Traceback (most recent call last)",
      "Cell \u001b[1;32mIn[8], line 5\u001b[0m\n\u001b[0;32m      3\u001b[0m plt\u001b[38;5;241m.\u001b[39mplot(peakFitWidget\u001b[38;5;241m.\u001b[39menergy_scale,peakFitWidget\u001b[38;5;241m.\u001b[39mpeak_model, label\u001b[38;5;241m=\u001b[39m\u001b[38;5;124m'\u001b[39m\u001b[38;5;124mmodel\u001b[39m\u001b[38;5;124m'\u001b[39m)\n\u001b[0;32m      4\u001b[0m plt\u001b[38;5;241m.\u001b[39mplot(peakFitWidget\u001b[38;5;241m.\u001b[39menergy_scale,peakFitWidget\u001b[38;5;241m.\u001b[39mdataset, label\u001b[38;5;241m=\u001b[39m\u001b[38;5;124m'\u001b[39m\u001b[38;5;124mspectrum\u001b[39m\u001b[38;5;124m'\u001b[39m)\n\u001b[1;32m----> 5\u001b[0m plt\u001b[38;5;241m.\u001b[39mplot(peakFitWidget\u001b[38;5;241m.\u001b[39menergy_scale, peakFitWidget\u001b[38;5;241m.\u001b[39mdataset\u001b[38;5;241m-\u001b[39mpeakFitWidget\u001b[38;5;241m.\u001b[39mpeak_model\u001b[38;5;241m-\u001b[39mresolution_functions, label\u001b[38;5;241m=\u001b[39m\u001b[38;5;124m'\u001b[39m\u001b[38;5;124mdif\u001b[39m\u001b[38;5;124m'\u001b[39m)\n\u001b[0;32m      6\u001b[0m plt\u001b[38;5;241m.\u001b[39mylim(\u001b[38;5;241m-\u001b[39m\u001b[38;5;241m4e7\u001b[39m,\u001b[38;5;241m1e8\u001b[39m)\n\u001b[0;32m      7\u001b[0m plt\u001b[38;5;241m.\u001b[39mlegend()\n",
      "\u001b[1;31mNameError\u001b[0m: name 'resolution_functions' is not defined"
     ]
    },
    {
     "data": {
      "application/vnd.jupyter.widget-view+json": {
       "model_id": "71fc5566a72a4ceb9cc96512802441ba",
       "version_major": 2,
       "version_minor": 0
      },
      "image/png": "[encoded data removed]",
      "text/html": [
       "\n",
       "            <div style=\"display: inline-block;\">\n",
       "                <div class=\"jupyter-widgets widget-label\" style=\"text-align: center;\">\n",
       "                    Figure\n",
       "                </div>\n",
       "                <img src='data:image/png;base64,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' width=640.0/>\n",
       "            </div>\n",
       "        "
      ],
      "text/plain": [
       "Canvas(toolbar=Toolbar(toolitems=[('Home', 'Reset original view', 'home', 'home'), ('Back', 'Back to previous …"
      ]
     },
     "metadata": {},
     "output_type": "display_data"
    }
   ],
   "source": [
    "plt.close('all')\n",
    "plt.figure()\n",
    "plt.plot(peakFitWidget.energy_scale,peakFitWidget.peak_model, label='model')\n",
    "plt.plot(peakFitWidget.energy_scale,peakFitWidget.dataset, label='spectrum')\n",
    "plt.plot(peakFitWidget.energy_scale, peakFitWidget.dataset-peakFitWidget.peak_model-resolution_functions, label='dif')\n",
    "plt.ylim(-4e7,1e8)\n",
    "plt.legend()"
   ]
  },
  {
   "cell_type": "code",
   "execution_count": null,
   "metadata": {},
   "outputs": [],
   "source": [
    "eels_dataset.metadata['low_loss'].update(resolution_functions.metadata['low_loss'])\n",
    "shifted_dataset = eels_tools.shift_on_same_scale(eels_dataset)\n",
    "view = shifted_dataset.plot()"
   ]
  },
  {
   "cell_type": "code",
   "execution_count": null,
   "metadata": {},
   "outputs": [],
   "source": [
    "shifted_resolution_functions = eels_tools.get_resolution_functions(shifted_dataset, zero_loss_fit_width=.9)\n",
    "dif = shifted_dataset - shifted_resolution_functions\n",
    "view = dif.plot()"
   ]
  },
  {
   "cell_type": "code",
   "execution_count": null,
   "metadata": {},
   "outputs": [],
   "source": [
    "datasets = fileWidget.datasets\n",
    "#datasets['energy_corrected'] = shifted_dataset\n",
    "#datasets['energy_corrected_resolution_function'] = shifted_resolution_functions\n",
    "\n",
    "infoWidget= interactive_eels.InfoWidget(datasets)"
   ]
  },
  {
   "cell_type": "code",
   "execution_count": null,
   "metadata": {},
   "outputs": [],
   "source": [
    "v = shifted_dataset.plot()\n"
   ]
  },
  {
   "cell_type": "code",
   "execution_count": null,
   "metadata": {
    "hideCode": false,
    "hidePrompt": false,
    "tags": []
   },
   "outputs": [],
   "source": [
    "FWHM, energy_shift = eels_tools.fix_energy_scale(eels_dataset)\n",
    "\n",
    "print(f'Zero Loss with energy resolution of {FWHM:.2f} eV at position {energy_shift:.3f} eV')\n",
    "eels_dataset.energy_loss -= energy_shift\n",
    "\n",
    "zero_loss, _ = eels_tools.resolution_function(eels_dataset.energy_loss, eels_dataset, .4)\n",
    "print(zero_loss)\n",
    "plt.figure()\n",
    "plt.plot(eels_dataset.energy_loss, eels_dataset, label='spectrum')\n",
    "plt.plot(eels_dataset.energy_loss, zero_loss, label = 'zero-loss')\n",
    "plt.plot(eels_dataset.energy_loss, np.array(eels_dataset)-zero_loss , label = 'difference')\n",
    "\n",
    "plt.title ('Lorentzian Product Fit of Zero-Loss Peak')\n",
    "#plt.xlim(-5,30)\n",
    "plt.legend();\n",
    "Izl = zero_loss.sum()\n",
    "Itotal = np.array(eels_dataset).sum()\n",
    "tmfp = np.log(Itotal/Izl)\n",
    "print(f'Sum of Zero-Loss: {Izl:.3f} %')\n",
    "print(f'Sum of Spectrum: {Itotal:.3f} %')\n",
    "print (f'thickness [IMFP]: {tmfp:.5f}')"
   ]
  },
  {
   "cell_type": "markdown",
   "metadata": {},
   "source": [
    "## Summary\n",
    "\n",
    "In this notebook we show a convenient way to \n",
    "- Combine Low-Loss and COre-Loss Spectra and SPectra Images\n",
    "- Quantify EELS spectra\n",
    "- Get a noise free representation of a spectrum\n",
    "- Determine positions of features\n",
    "- \n",
    "The advantages of EELS is the derivation of these values spatially resolved.\n",
    "\n"
   ]
  },
  {
   "cell_type": "code",
   "execution_count": null,
   "metadata": {},
   "outputs": [],
   "source": []
  }
 ],
 "metadata": {
  "hide_code_all_hidden": false,
  "kernelspec": {
   "display_name": "Python 3 (ipykernel)",
   "language": "python",
   "name": "python3"
  },
  "language_info": {
   "codemirror_mode": {
    "name": "ipython",
    "version": 3
   },
   "file_extension": ".py",
   "mimetype": "text/x-python",
   "name": "python",
   "nbconvert_exporter": "python",
   "pygments_lexer": "ipython3",
   "version": "3.11.7"
  },
  "toc": {
   "base_numbering": "3",
   "nav_menu": {},
   "number_sections": true,
   "sideBar": true,
   "skip_h1_title": false,
   "title_cell": "Table of Contents",
   "title_sidebar": "Contents",
   "toc_cell": false,
   "toc_position": {},
   "toc_section_display": true,
   "toc_window_display": true
  }
 },
 "nbformat": 4,
 "nbformat_minor": 4
}
