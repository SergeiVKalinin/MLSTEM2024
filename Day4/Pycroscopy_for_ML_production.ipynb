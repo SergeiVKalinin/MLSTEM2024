{
 "cells": [
  {
   "cell_type": "markdown",
   "id": "de1fed6e",
   "metadata": {
    "id": "de1fed6e"
   },
   "source": [
    "[![Open in Colab](https://colab.research.google.com/assets/colab-badge.svg)](https://colab.research.google.com/github/pycroscopy/pycroscopy/blob/main/jupyter_notebooks/Intro_to_Pycroscopy.ipynb)"
   ]
  },
  {
   "cell_type": "markdown",
   "id": "6bcce3c2",
   "metadata": {
    "id": "6bcce3c2"
   },
   "source": [
    "# <center> <font color = \"green\">A processing and analytics system for microscopy data workflows: the Pycroscopy ecosystem of packages\n",
    "<img src = \"https://github.com/pycroscopy/pycroscopy/blob/main/docs/px_logo_new.png?raw=true\"> </img>\n",
    "    \n",
    "<center><font size = 3> R. Vasudevan<sup>1</sup>, S. M. Valleti,<sup>2</sup> M. Ziatdinov,<sup>1,3</sup> G. Duscher,<sup>4,</sup> and S. Somnath<sup>5,6</sup> </font></center>\n",
    "\n",
    "<sup>1</sup>Center for Nanophase Materials Sciences, Oak Ridge National Laboratory \\\n",
    "<sup>2</sup>Bredesen Center for Interdisciplinary Research, University of Tennessee, Knoxville \\\n",
    "<sup>3</sup>Computational Sciences and Engineering Division, Oak Ridge National Laboratory \\\n",
    "<sup>4</sup>Department of Materials Science and Engineering, University of Tennessee, Knoxville \\\n",
    "<sup>5</sup>National Center for Computational Sciences, Oak Ridge National Laboratory \\\n",
    "<sup>6</sup>Current affiliation: McKinsey Consulting Group\n",
    "    \n",
    "This notebook accompanies our paper on the Pycroscopy Ecosystem of packages.\n",
    "\n",
    "We will go through several examples of use cases. More information can be found <a href = \"https://pycroscopy.github.io/pycroscopy/ecosystem.html\">here</a>\n",
    "\n",
    "## <left> Visualization, Spectral processing and Matrix Factorization with Pycroscopy\n",
    "    \n",
    "In this notebook we will go thorugh basics of loading files, visualizing them, fitting spectra to functions, and then more advanced image manipulation and matrix factorization\n",
    "  "
   ]
  },
  {
   "cell_type": "code",
   "execution_count": null,
   "id": "233273c5",
   "metadata": {
    "colab": {
     "base_uri": "https://localhost:8080/",
     "height": 708
    },
    "id": "233273c5",
    "outputId": "0ffbe5b5-fa64-42d4-bbb8-ece84b6feef8"
   },
   "outputs": [],
   "source": [
    "#Load required packages\n",
    "!pip install -q pyNSID sidpy SciFiReaders nanonispy gwyfile pycroscopy wget ipympl\n",
    "\n",
    "#After installation, restart the kernel!"
   ]
  },
  {
   "cell_type": "code",
   "execution_count": null,
   "id": "6c75e25f",
   "metadata": {
    "colab": {
     "base_uri": "https://localhost:8080/",
     "height": 35
    },
    "id": "6c75e25f",
    "outputId": "9ebc694d-0428-4bd1-c06b-9fb98bcc362a"
   },
   "outputs": [],
   "source": [
    "#download the required data\n",
    "import wget\n",
    "wget.download(url='https://zenodo.org/record/8190744/files/bfo_iv_final.hf5?download=1',\n",
    "              out = 'bfo_iv_final.hf5')\n",
    "wget.download(url='https://zenodo.org/record/8190744/files/bto_atomic.dm3?download=1',\n",
    "              out = 'bto_atomic.dm3')\n",
    "wget.download(url = 'https://www.dropbox.com/scl/fi/5lzwbnjv9z3i6kcvztewq/pfm_images.hf5?rlkey=l5um1rus9yx8c50nwv2fzgiuk&dl=1',\n",
    "              out = 'pfm_images.hf5')"
   ]
  },
  {
   "cell_type": "code",
   "execution_count": null,
   "id": "jlXbQODi8C2P",
   "metadata": {
    "id": "jlXbQODi8C2P"
   },
   "outputs": [],
   "source": [
    "colab = True #Set to True if in Google Colab, else set to False\n",
    "if colab:\n",
    "    %matplotlib widget\n",
    "    from google.colab import output\n",
    "    output.enable_custom_widget_manager()\n",
    "else:\n",
    "    %matplotlib notebook\n"
   ]
  },
  {
   "cell_type": "code",
   "execution_count": null,
   "id": "b992e8e0",
   "metadata": {
    "colab": {
     "base_uri": "https://localhost:8080/"
    },
    "id": "b992e8e0",
    "outputId": "5900a383-5f52-48d9-c13b-b1387a221f5f"
   },
   "outputs": [],
   "source": [
    "import sys\n",
    "import os\n",
    "import matplotlib.pyplot as plt\n",
    "import numpy as np\n",
    "\n",
    "import pyNSID\n",
    "import sidpy as sid\n",
    "import SciFiReaders as sr\n",
    "from sidpy.proc.fitter import SidFitter"
   ]
  },
  {
   "cell_type": "markdown",
   "id": "e6f15aa4",
   "metadata": {
    "id": "e6f15aa4"
   },
   "source": [
    "# Load and Visualize Spectral dataset\n",
    "\n",
    "Here we load a dataset of I-V curves captured by conductive atomic force microscopy, on a BiFeO3 sample.\n",
    "The data has been transformed so that we plot not the log of the current density J, as a function of the square root of the electric field. I-V curves plotted in this fashion will be linear if they follow Schottky emission cinduction laws. The dataset was originally presented in the paper <a href = \"https://www.nature.com/articles/s41467-017-01334-5\"> Vasudevan et al. Nat Commun. 8, 1318 (2017) </a>\n",
    "\n",
    "Here we will load the file, which was saved as a pyNSID HDF5 file, using SciFiReaders, which reads it into a <i>sidpy.Dataset</i> object\n",
    "\n",
    "Then we will use the .plot() method of the <i>sidpy.Dataset</i> object for interactive visualization.\n"
   ]
  },
  {
   "cell_type": "code",
   "execution_count": null,
   "id": "5850713e",
   "metadata": {
    "colab": {
     "base_uri": "https://localhost:8080/",
     "height": 623,
     "referenced_widgets": [
      "01a0c9f9dd7141f4a157d0a7cd87fe40",
      "b552db2db1dd4617b580798e0570c8f6",
      "3e4c84acf7194674add82500169008bb",
      "79995df6565e4386b0ae4147a7aee564",
      "59d94447ddd6427fb453f9d23771c02c",
      "83ff5ebdd2f241caa14280068b371b76",
      "269b146ceed643d7955b75c25bcd6174",
      "26469ec266da4490aea8a63a56fcae46",
      "991836d613e1414aa74a8969003a9345",
      "1ea9bf5e7a1843adb3330ac77998be73",
      "613cfd151f1a421681d78ae59cbdf28e"
     ]
    },
    "id": "5850713e",
    "outputId": "8f4a4cc2-e684-487c-c3af-0b283b9f664d"
   },
   "outputs": [],
   "source": [
    "data_path = r'bfo_iv_final.hf5'\n",
    "dr = sr.NSIDReader(data_path)\n",
    "dataset_sid = dr.read()[0]\n",
    "fig = dataset_sid.plot();"
   ]
  },
  {
   "cell_type": "code",
   "execution_count": null,
   "id": "c59deac0",
   "metadata": {
    "id": "c59deac0"
   },
   "outputs": [],
   "source": [
    "fig.savefig('Fig4a.png', dpi = 300)"
   ]
  },
  {
   "cell_type": "markdown",
   "id": "857fa64e",
   "metadata": {
    "id": "857fa64e"
   },
   "source": [
    "# Functional Fitting\n",
    "\n",
    "Much of the data appears linear. We can define any function of our choice and use sidpy's <i>SidFitter</i> class to make it easy to perform the fit on all of the spectra. We simply define the fit function, instantiate the class, and then call the do_fit() method.\n",
    "\n",
    "Advantages of using the fitter class include:\n",
    "- Innate scalability: we leverage the parallelism of Dask, so that the computations are performed in parallel\n",
    "- Superior priors: We can use a k-means cluster approach to improve priors for the function fits, as described in <a href = \"https://iopscience.iop.org/article/10.1088/2632-2153/abfbba/meta\">Creange et al.</a>\n",
    "- Dimension handling: There is intelligent folding and unfolding within the class to handle simple cases. For more complex situations (e.g., when there are multiple spectral dimensions, but only one is used for the fitting), these can be specified too.\n"
   ]
  },
  {
   "cell_type": "code",
   "execution_count": null,
   "id": "63836a5a",
   "metadata": {
    "colab": {
     "base_uri": "https://localhost:8080/",
     "height": 527
    },
    "id": "63836a5a",
    "outputId": "e25d7320-c660-4f85-eb50-447ac4790f5d"
   },
   "outputs": [],
   "source": [
    "#Define the function we want each spectrum to\n",
    "\n",
    "def one_lin_func(xvec, *coeff):\n",
    "    a1,a2 = coeff\n",
    "    return a1*xvec + a2\n",
    "\n",
    "#Instantiate the SidFitter class\n",
    "fitter = SidFitter(dataset_sid, one_lin_func,num_workers=4,\n",
    "                           threads=1, return_cov=False, return_fit=True, return_std=False,\n",
    "                           km_guess=True,num_fit_parms = 2)"
   ]
  },
  {
   "cell_type": "code",
   "execution_count": null,
   "id": "c12c2cce",
   "metadata": {
    "colab": {
     "base_uri": "https://localhost:8080/",
     "height": 1000
    },
    "id": "c12c2cce",
    "outputId": "7e7e17ff-6c86-43b1-dc85-a69873003b25"
   },
   "outputs": [],
   "source": [
    "fit_parameters, fitted_dataset = fitter.do_fit() #With one line we can fit all the spectra"
   ]
  },
  {
   "cell_type": "markdown",
   "id": "9d1a605c",
   "metadata": {
    "id": "9d1a605c"
   },
   "source": [
    "## Visualize Fit Results\n",
    "\n",
    "We can visualize the parameter maps from the fititng, or visualize the fitted data curves"
   ]
  },
  {
   "cell_type": "markdown",
   "id": "a3eccbbd",
   "metadata": {
    "id": "a3eccbbd"
   },
   "source": [
    "### Visualize coeffient maps\n",
    "\n",
    "The functional fits provided us with coefficient maps for the fit parameters.\n",
    "\n",
    "We can simply call the .plot() method again to visualize them."
   ]
  },
  {
   "cell_type": "code",
   "execution_count": null,
   "id": "40fbaa00",
   "metadata": {
    "colab": {
     "base_uri": "https://localhost:8080/",
     "height": 139
    },
    "id": "40fbaa00",
    "outputId": "f7711917-3d09-4671-a8d1-1c5f1e06ea60"
   },
   "outputs": [],
   "source": [
    "fit_parameters.plot();"
   ]
  },
  {
   "cell_type": "markdown",
   "id": "05e87ed0",
   "metadata": {
    "id": "05e87ed0"
   },
   "source": [
    "### Visualize fitted spectra\n",
    "Each spectrum is associated with a specific fit.\n",
    "\n",
    "We can visualize them again easily\n",
    "through calling the <i>visualize_fit_results()</i> method of the SidFitter class."
   ]
  },
  {
   "cell_type": "code",
   "execution_count": null,
   "id": "2580f617",
   "metadata": {
    "colab": {
     "base_uri": "https://localhost:8080/",
     "height": 139
    },
    "id": "2580f617",
    "outputId": "3e2444c0-2994-4e41-ca2d-421502b06dca"
   },
   "outputs": [],
   "source": [
    "fig = fitter.visualize_fit_results() # We can visualize the results of the fit interactively too..."
   ]
  },
  {
   "cell_type": "code",
   "execution_count": null,
   "id": "62ba2bed",
   "metadata": {
    "id": "62ba2bed"
   },
   "outputs": [],
   "source": [
    "fig.fig.savefig('Fig4b.png', dpi = 300)"
   ]
  },
  {
   "cell_type": "markdown",
   "id": "35c0ceb8",
   "metadata": {
    "id": "35c0ceb8"
   },
   "source": [
    "# Save the results\n",
    "\n",
    "We can easily save back to the original HDF5 file.\n",
    "This will help us when it comes to e.g., publications -> provide all the necessary data.\n",
    "\n"
   ]
  },
  {
   "cell_type": "code",
   "execution_count": null,
   "id": "12b6d0cd",
   "metadata": {
    "id": "12b6d0cd"
   },
   "outputs": [],
   "source": [
    "import h5py\n",
    "new_h5_filename = r'new_exp3_file.hf5'\n",
    "hf = h5py.File(new_h5_filename, 'a') #Create a new file"
   ]
  },
  {
   "cell_type": "code",
   "execution_count": null,
   "id": "2355d227",
   "metadata": {
    "colab": {
     "base_uri": "https://localhost:8080/",
     "height": 68
    },
    "id": "2355d227",
    "outputId": "9766bb18-6081-4c99-ec2a-ce31682f8932"
   },
   "outputs": [],
   "source": [
    "#We can save the fitted results with pyNSID\n",
    "hf_grp = hf.create_group('Measurement_000/Channel_000') #Create a group\n",
    "\n",
    "#Let's save the raw data first\n",
    "pyNSID.hdf_io.write_nsid_dataset(dataset_sid, hf_grp, main_data_name=\"IV_BFO_Raw\")"
   ]
  },
  {
   "cell_type": "code",
   "execution_count": null,
   "id": "c4fbf6d4",
   "metadata": {
    "colab": {
     "base_uri": "https://localhost:8080/",
     "height": 85
    },
    "id": "c4fbf6d4",
    "outputId": "8428eb1e-4d2e-44e6-931c-a90e3f3047ee"
   },
   "outputs": [],
   "source": [
    "fitted_dataset.metadata"
   ]
  },
  {
   "cell_type": "code",
   "execution_count": null,
   "id": "26b3a7d2",
   "metadata": {
    "colab": {
     "base_uri": "https://localhost:8080/",
     "height": 204
    },
    "id": "26b3a7d2",
    "outputId": "299b076f-8ea7-46e6-8351-30bbb8d370f9"
   },
   "outputs": [],
   "source": [
    "sid.hdf_utils.print_tree(hf)"
   ]
  },
  {
   "cell_type": "code",
   "execution_count": null,
   "id": "a0637a12",
   "metadata": {
    "colab": {
     "base_uri": "https://localhost:8080/",
     "height": 612
    },
    "id": "a0637a12",
    "outputId": "e030a8c8-8eaf-403a-c3d5-985ca0868599"
   },
   "outputs": [],
   "source": [
    "hf_results_grp = hf['Measurement_000/Channel_000/IV_BFO_Raw'] #Let's put the results here.\n",
    "\n",
    "pyNSID.hdf_io.write_nsid_dataset(fit_parameters, hf_results_grp, main_data_name=\"IV_BFO_Fit_Parameters\")\n",
    "pyNSID.hdf_io.write_nsid_dataset(fitted_dataset, hf_results_grp, main_data_name=\"IV_BFO_Fitted_Spectra\")\n",
    "\n",
    "sid.hdf_utils.print_tree(hf) #print result\n",
    "\n",
    "hf.close()"
   ]
  },
  {
   "cell_type": "code",
   "execution_count": null,
   "id": "eb6ce508-c159-428e-af9c-40721e6374cf",
   "metadata": {},
   "outputs": [],
   "source": [
    "sid.hdf_utils.print_tree(hf)"
   ]
  },
  {
   "cell_type": "markdown",
   "id": "73507c41",
   "metadata": {
    "id": "73507c41"
   },
   "source": [
    "# Second example - Image analysis\n",
    "\n",
    "The pycroscopy package has some tools for generic image analysis, as well as wrappers around common machine learning methods. These include matrix and tensor factorization techniques. Let us explore one example.\n",
    "\n",
    "First we will import a microscopy image, and then we will perform image windowing\n",
    "\n",
    "We will then use matrix factorization to analyze the spatial distribution of different phases\n",
    "\n",
    "This is explained in <a href = \"https://pubs.acs.org/doi/full/10.1021/acs.nanolett.6b02130\">this article</a>.\n"
   ]
  },
  {
   "cell_type": "code",
   "execution_count": null,
   "id": "baaf0522",
   "metadata": {
    "colab": {
     "base_uri": "https://localhost:8080/"
    },
    "id": "baaf0522",
    "outputId": "f88f659c-345a-4d72-bcce-9f131a1786bf"
   },
   "outputs": [],
   "source": [
    "import sys\n",
    "import os\n",
    "import matplotlib.pyplot as plt\n",
    "import numpy as np\n",
    "import pyNSID\n",
    "\n",
    "import sidpy as sid\n",
    "import SciFiReaders as sr\n",
    "from sidpy.proc.fitter import SidFitter\n",
    "import warnings\n",
    "warnings.filterwarnings('ignore')"
   ]
  },
  {
   "cell_type": "code",
   "execution_count": null,
   "id": "4b5d824c",
   "metadata": {
    "id": "4b5d824c"
   },
   "outputs": [],
   "source": [
    "dm3_file = r'bto_atomic.dm3'\n",
    "\n",
    "dm3_reader = sr.DM3Reader(dm3_file)\n",
    "\n",
    "data = dm3_reader.read()[\"Channel_000\"]\n",
    "\n",
    "data.title = 'BTO_STEM'\n",
    "data._axes[0].quantity = 'x'\n",
    "data._axes[1].quantity = 'y'"
   ]
  },
  {
   "cell_type": "code",
   "execution_count": null,
   "id": "6946005d",
   "metadata": {
    "colab": {
     "base_uri": "https://localhost:8080/",
     "height": 487
    },
    "id": "6946005d",
    "outputId": "92419d9f-bb1f-4f5f-e2b6-46a16e6f0c56"
   },
   "outputs": [],
   "source": [
    "data.plot();"
   ]
  },
  {
   "cell_type": "code",
   "execution_count": null,
   "id": "65a6c0fc",
   "metadata": {
    "colab": {
     "base_uri": "https://localhost:8080/",
     "height": 492
    },
    "id": "65a6c0fc",
    "outputId": "d36d49c0-0b82-422a-9cb7-08e53dd49b51"
   },
   "outputs": [],
   "source": [
    "#Let's crop the image\n",
    "data_cropped = data[200:-200,10:550]\n",
    "\n",
    "fig = data_cropped.plot();"
   ]
  },
  {
   "cell_type": "code",
   "execution_count": null,
   "id": "f695f161",
   "metadata": {
    "id": "f695f161"
   },
   "outputs": [],
   "source": [
    "fig.savefig('Fig3a.png', dpi = 300)"
   ]
  },
  {
   "cell_type": "code",
   "execution_count": null,
   "id": "805bce73",
   "metadata": {
    "id": "805bce73",
    "scrolled": true
   },
   "outputs": [],
   "source": [
    "from pycroscopy.image import ImageWindowing\n",
    "\n",
    "parms_dict = {}\n",
    "parms_dict['window_step_x'] = 8\n",
    "parms_dict['window_step_y'] = 8\n",
    "parms_dict['window_size_x'] = 128\n",
    "parms_dict['window_size_y'] = 128\n",
    "parms_dict['mode'] = 'fft'\n",
    "parms_dict['filter'] = 'hamming'\n",
    "parms_dict['zoom_factor'] = 2\n",
    "parms_dict['interpol_factor'] = 2\n",
    "iw = ImageWindowing(parms_dict)\n",
    "windows = iw.MakeWindows(data_cropped)\n",
    "windows = np.abs(np.log(np.abs(windows)))"
   ]
  },
  {
   "cell_type": "code",
   "execution_count": null,
   "id": "b896200c",
   "metadata": {
    "colab": {
     "base_uri": "https://localhost:8080/",
     "height": 348
    },
    "id": "b896200c",
    "outputId": "8a593f51-cd1d-4007-de50-d34e1c5c0d07"
   },
   "outputs": [],
   "source": [
    "windows.plot();"
   ]
  },
  {
   "cell_type": "code",
   "execution_count": null,
   "id": "9f9ad82f",
   "metadata": {
    "id": "9f9ad82f"
   },
   "outputs": [],
   "source": [
    "from pycroscopy.learn.ml.matrix_factor import MatrixFactor\n",
    "mfactor = MatrixFactor(np.abs(windows), method = 'nfindr',n_components = 3)\n",
    "output = mfactor.do_fit()"
   ]
  },
  {
   "cell_type": "code",
   "execution_count": null,
   "id": "a9880227",
   "metadata": {
    "id": "a9880227"
   },
   "outputs": [],
   "source": [
    "abundances = output[0]\n",
    "components = output[1]\n",
    "abund = np.array(abundances)\n",
    "comps = np.array(components)"
   ]
  },
  {
   "cell_type": "code",
   "execution_count": null,
   "id": "61908793",
   "metadata": {
    "colab": {
     "base_uri": "https://localhost:8080/",
     "height": 574
    },
    "id": "61908793",
    "outputId": "b5d5f0a7-6930-4b52-a959-8de957ba1319"
   },
   "outputs": [],
   "source": [
    "from mpl_toolkits.axes_grid1 import make_axes_locatable\n",
    "\n",
    "fig, axes = plt.subplots(nrows=1, ncols=mfactor.ncomp, figsize = (10,3))\n",
    "for ind, ax in enumerate(axes.flat):\n",
    "    im1 = ax.imshow(comps[ind,:,:])\n",
    "    ax.set_title('Component #' + str(ind))\n",
    "    divider = make_axes_locatable(ax)\n",
    "    cax = divider.append_axes('right', size='5%', pad=0.05)\n",
    "    fig.colorbar(im1, cax=cax, orientation='vertical')\n",
    "    ax.axis('off')\n",
    "fig.tight_layout()\n",
    "fig.savefig('Fig3b.png', dpi = 300)\n",
    "\n",
    "\n",
    "fig, axes = plt.subplots(nrows=1, ncols=mfactor.ncomp, figsize = (10,3))\n",
    "for ind, ax in enumerate(axes.flat):\n",
    "    im1 = ax.imshow(abund[:,:,ind])\n",
    "    divider = make_axes_locatable(ax)\n",
    "    cax = divider.append_axes('right', size='5%', pad=0.05)\n",
    "    fig.colorbar(im1, cax=cax, orientation='vertical')\n",
    "    ax.axis('off')\n",
    "\n",
    "fig.tight_layout()\n",
    "fig.savefig('Fig3c.png', dpi = 300)"
   ]
  },
  {
   "cell_type": "markdown",
   "id": "FBlYaLXd7kt7",
   "metadata": {
    "id": "FBlYaLXd7kt7"
   },
   "source": [
    "# Play with other windowing paramters and methods of matrix factorization\n",
    "\n",
    "1. Change the windowing parameters. Is there a big difference in the endmembers?\n",
    "\n",
    "2. Change the number of endmembers. One way of determining if there are too many endmembers is if there is a strong similarity between endmembers. Compute a structural similarity index measure (https://scikit-image.org/docs/stable/auto_examples/transform/plot_ssim.html) between endmembers and check.\n"
   ]
  },
  {
   "cell_type": "code",
   "execution_count": null,
   "id": "bc8e223a",
   "metadata": {
    "id": "bc8e223a"
   },
   "outputs": [],
   "source": [
    "#For you!\n"
   ]
  },
  {
   "cell_type": "markdown",
   "id": "WOdTznWz8DRJ",
   "metadata": {
    "id": "WOdTznWz8DRJ"
   },
   "source": [
    "# Image Inpainting\n",
    "\n",
    "Oftentimes, scanning is done in a sparse mode, either to improve temporal resolution (i.e., higher throughput of scan), or because the scanning method damages the sample, so scans can be conducted with reduced impulse (dose).\n",
    "\n",
    "Below, we will explore biharmonic inpainting as a method to reconstruct sparse data. This is implemented in skimage."
   ]
  },
  {
   "cell_type": "code",
   "execution_count": null,
   "id": "b8340ec4-576d-419d-b71a-03c51e9c565c",
   "metadata": {},
   "outputs": [],
   "source": [
    "import sys\n",
    "import pycroscopy\n",
    "import SciFiReaders as sr\n",
    "import numpy as np\n",
    "import matplotlib.pyplot as plt"
   ]
  },
  {
   "cell_type": "code",
   "execution_count": null,
   "id": "1XoNr2YhPCPV",
   "metadata": {
    "id": "1XoNr2YhPCPV"
   },
   "outputs": [],
   "source": [
    "#Load the datasets\n",
    "nsid_reader = sr.NSIDReader('pfm_images.hf5')\n",
    "datasets = nsid_reader.read()"
   ]
  },
  {
   "cell_type": "code",
   "execution_count": null,
   "id": "7cd86afa-acf4-457c-aaa8-f8d20fc6c229",
   "metadata": {},
   "outputs": [],
   "source": [
    "for dataset in datasets:\n",
    "    view = dataset.plot()"
   ]
  },
  {
   "cell_type": "code",
   "execution_count": null,
   "id": "3decb17f-40c1-4c56-a1dc-9102eacb9540",
   "metadata": {},
   "outputs": [],
   "source": [
    "# Here we are going to generate a random mask and apply it to the dataset\n",
    "\n",
    "def generate_mask_and_image(data_set, percent_sampled=0.10):\n",
    "    \"\"\"\n",
    "    Given a sidpy dataset, generate a random mask and return the masked image\n",
    "    \"\"\"\n",
    "    \n",
    "    num_pixels = data_set.shape[0]*data_set.shape[1]\n",
    "    \n",
    "    points_sampled = np.random.choice(np.arange(num_pixels), size=int(percent_sampled*num_pixels), replace = False)\n",
    "    mask = np.zeros(shape=(data_set.shape[0]*data_set.shape[1]))\n",
    "    mask[points_sampled] = 1\n",
    "    mask = mask.reshape((data_set.shape[0],data_set.shape[1]))\n",
    "    \n",
    "    sparse_image = np.array(data_set.copy())\n",
    "    sparse_image[mask==0,:] = 0\n",
    "\n",
    "    sparse_image_sid = data_set.copy()\n",
    "    sparse_image_sid[:,:,:] = sparse_image[:,:,:]\n",
    "    sparse_image_sid.metadata[\"mask\"] = mask\n",
    "    \n",
    "    return sparse_image_sid\n",
    "\n",
    "data_set = datasets[0]\n",
    "sparse_image = generate_mask_and_image(data_set, percent_sampled = 0.05)"
   ]
  },
  {
   "cell_type": "code",
   "execution_count": null,
   "id": "8078b6ea-385b-40cd-8308-62ec222fa3d2",
   "metadata": {},
   "outputs": [],
   "source": [
    "fig, axes = plt.subplots(nrows=1, ncols=2, figsize=(10,5))\n",
    "axes[0].imshow(sparse_image[:,:,0])\n",
    "axes[0].set_title('Sparse Sampled Image')\n",
    "axes[1].imshow(sparse_image.metadata[\"mask\"])\n",
    "axes[1].set_title(\"Mask\")\n"
   ]
  },
  {
   "cell_type": "code",
   "execution_count": null,
   "id": "fb4eecf3-ae6e-43ca-8fc5-2e2d072947d3",
   "metadata": {},
   "outputs": [],
   "source": [
    "from pycroscopy.image.image_utilities import inpaint_image\n",
    "\n",
    "#Let's do the inpainting\n",
    "inpainted_image = inpaint_image(sparse_image,channel = 0)"
   ]
  },
  {
   "cell_type": "code",
   "execution_count": null,
   "id": "a74139e1-fff5-4e99-8dbe-fb7cad424837",
   "metadata": {},
   "outputs": [],
   "source": [
    "view = inpainted_image.plot()"
   ]
  },
  {
   "cell_type": "code",
   "execution_count": null,
   "id": "865b2893-e7d5-4a55-9b0b-ccc39e114fed",
   "metadata": {},
   "outputs": [],
   "source": [
    "inpainted_image.metadata"
   ]
  },
  {
   "cell_type": "code",
   "execution_count": null,
   "id": "ef90a151-8b1f-415d-bb56-1081f99ce56e",
   "metadata": {},
   "outputs": [],
   "source": []
  }
 ],
 "metadata": {
  "colab": {
   "provenance": []
  },
  "gpuClass": "standard",
  "kernelspec": {
   "display_name": "Python 3 (ipykernel)",
   "language": "python",
   "name": "python3"
  },
  "language_info": {
   "codemirror_mode": {
    "name": "ipython",
    "version": 3
   },
   "file_extension": ".py",
   "mimetype": "text/x-python",
   "name": "python",
   "nbconvert_exporter": "python",
   "pygments_lexer": "ipython3",
   "version": "3.11.8"
  },
  "widgets": {
   "application/vnd.jupyter.widget-state+json": {
    "01a0c9f9dd7141f4a157d0a7cd87fe40": {
     "model_module": "@jupyter-widgets/controls",
     "model_module_version": "1.5.0",
     "model_name": "HBoxModel",
     "state": {
      "_dom_classes": [],
      "_model_module": "@jupyter-widgets/controls",
      "_model_module_version": "1.5.0",
      "_model_name": "HBoxModel",
      "_view_count": null,
      "_view_module": "@jupyter-widgets/controls",
      "_view_module_version": "1.5.0",
      "_view_name": "HBoxView",
      "box_style": "",
      "children": [
       "IPY_MODEL_b552db2db1dd4617b580798e0570c8f6"
      ],
      "layout": "IPY_MODEL_3e4c84acf7194674add82500169008bb"
     }
    },
    "1ea9bf5e7a1843adb3330ac77998be73": {
     "model_module": "jupyter-matplotlib",
     "model_module_version": "^0.11",
     "model_name": "ToolbarModel",
     "state": {
      "_current_action": "",
      "_dom_classes": [],
      "_model_module": "jupyter-matplotlib",
      "_model_module_version": "^0.11",
      "_model_name": "ToolbarModel",
      "_view_count": null,
      "_view_module": "jupyter-matplotlib",
      "_view_module_version": "^0.11",
      "_view_name": "ToolbarView",
      "button_style": "",
      "collapsed": true,
      "layout": "IPY_MODEL_613cfd151f1a421681d78ae59cbdf28e",
      "orientation": "vertical",
      "toolitems": [
       [
        "Home",
        "Reset original view",
        "home",
        "home"
       ],
       [
        "Back",
        "Back to previous view",
        "arrow-left",
        "back"
       ],
       [
        "Forward",
        "Forward to next view",
        "arrow-right",
        "forward"
       ],
       [
        "Pan",
        "Left button pans, Right button zooms\nx/y fixes axis, CTRL fixes aspect",
        "arrows",
        "pan"
       ],
       [
        "Zoom",
        "Zoom to rectangle\nx/y fixes axis",
        "square-o",
        "zoom"
       ],
       [
        "Download",
        "Download plot",
        "floppy-o",
        "save_figure"
       ]
      ]
     }
    },
    "26469ec266da4490aea8a63a56fcae46": {
     "model_module": "jupyter-matplotlib",
     "model_module_version": "^0.11",
     "model_name": "MPLCanvasModel",
     "state": {
      "_cursor": "default",
      "_data_url": "data:image/png;base64,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",
      "_dom_classes": [],
      "_figure_label": "Figure 1",
      "_image_mode": "diff",
      "_message": "",
      "_model_module": "jupyter-matplotlib",
      "_model_module_version": "^0.11",
      "_model_name": "MPLCanvasModel",
      "_rubberband_height": 0,
      "_rubberband_width": 0,
      "_rubberband_x": 0,
      "_rubberband_y": 0,
      "_size": [
       640,
       480
      ],
      "_view_count": null,
      "_view_module": "jupyter-matplotlib",
      "_view_module_version": "^0.11",
      "_view_name": "MPLCanvasView",
      "capture_scroll": false,
      "footer_visible": true,
      "header_visible": true,
      "layout": "IPY_MODEL_991836d613e1414aa74a8969003a9345",
      "pan_zoom_throttle": 33,
      "resizable": true,
      "toolbar": "IPY_MODEL_1ea9bf5e7a1843adb3330ac77998be73",
      "toolbar_position": "left",
      "toolbar_visible": "fade-in-fade-out"
     }
    },
    "269b146ceed643d7955b75c25bcd6174": {
     "model_module": "@jupyter-widgets/controls",
     "model_module_version": "1.5.0",
     "model_name": "DescriptionStyleModel",
     "state": {
      "_model_module": "@jupyter-widgets/controls",
      "_model_module_version": "1.5.0",
      "_model_name": "DescriptionStyleModel",
      "_view_count": null,
      "_view_module": "@jupyter-widgets/base",
      "_view_module_version": "1.2.0",
      "_view_name": "StyleView",
      "description_width": ""
     }
    },
    "3e4c84acf7194674add82500169008bb": {
     "model_module": "@jupyter-widgets/base",
     "model_module_version": "1.2.0",
     "model_name": "LayoutModel",
     "state": {
      "_model_module": "@jupyter-widgets/base",
      "_model_module_version": "1.2.0",
      "_model_name": "LayoutModel",
      "_view_count": null,
      "_view_module": "@jupyter-widgets/base",
      "_view_module_version": "1.2.0",
      "_view_name": "LayoutView",
      "align_content": null,
      "align_items": null,
      "align_self": null,
      "border": null,
      "bottom": null,
      "display": null,
      "flex": null,
      "flex_flow": null,
      "grid_area": null,
      "grid_auto_columns": null,
      "grid_auto_flow": null,
      "grid_auto_rows": null,
      "grid_column": null,
      "grid_gap": null,
      "grid_row": null,
      "grid_template_areas": null,
      "grid_template_columns": null,
      "grid_template_rows": null,
      "height": null,
      "justify_content": null,
      "justify_items": null,
      "left": null,
      "margin": null,
      "max_height": null,
      "max_width": null,
      "min_height": null,
      "min_width": null,
      "object_fit": null,
      "object_position": null,
      "order": null,
      "overflow": null,
      "overflow_x": null,
      "overflow_y": null,
      "padding": null,
      "right": null,
      "top": null,
      "visibility": null,
      "width": null
     }
    },
    "59d94447ddd6427fb453f9d23771c02c": {
     "model_module": "@jupyter-widgets/controls",
     "model_module_version": "1.5.0",
     "model_name": "DescriptionStyleModel",
     "state": {
      "_model_module": "@jupyter-widgets/controls",
      "_model_module_version": "1.5.0",
      "_model_name": "DescriptionStyleModel",
      "_view_count": null,
      "_view_module": "@jupyter-widgets/base",
      "_view_module_version": "1.2.0",
      "_view_name": "StyleView",
      "description_width": ""
     }
    },
    "613cfd151f1a421681d78ae59cbdf28e": {
     "model_module": "@jupyter-widgets/base",
     "model_module_version": "1.2.0",
     "model_name": "LayoutModel",
     "state": {
      "_model_module": "@jupyter-widgets/base",
      "_model_module_version": "1.2.0",
      "_model_name": "LayoutModel",
      "_view_count": null,
      "_view_module": "@jupyter-widgets/base",
      "_view_module_version": "1.2.0",
      "_view_name": "LayoutView",
      "align_content": null,
      "align_items": null,
      "align_self": null,
      "border": null,
      "bottom": null,
      "display": null,
      "flex": null,
      "flex_flow": null,
      "grid_area": null,
      "grid_auto_columns": null,
      "grid_auto_flow": null,
      "grid_auto_rows": null,
      "grid_column": null,
      "grid_gap": null,
      "grid_row": null,
      "grid_template_areas": null,
      "grid_template_columns": null,
      "grid_template_rows": null,
      "height": null,
      "justify_content": null,
      "justify_items": null,
      "left": null,
      "margin": null,
      "max_height": null,
      "max_width": null,
      "min_height": null,
      "min_width": null,
      "object_fit": null,
      "object_position": null,
      "order": null,
      "overflow": null,
      "overflow_x": null,
      "overflow_y": null,
      "padding": null,
      "right": null,
      "top": null,
      "visibility": null,
      "width": null
     }
    },
    "79995df6565e4386b0ae4147a7aee564": {
     "model_module": "@jupyter-widgets/base",
     "model_module_version": "1.2.0",
     "model_name": "LayoutModel",
     "state": {
      "_model_module": "@jupyter-widgets/base",
      "_model_module_version": "1.2.0",
      "_model_name": "LayoutModel",
      "_view_count": null,
      "_view_module": "@jupyter-widgets/base",
      "_view_module_version": "1.2.0",
      "_view_name": "LayoutView",
      "align_content": null,
      "align_items": null,
      "align_self": null,
      "border": null,
      "bottom": null,
      "display": null,
      "flex": null,
      "flex_flow": null,
      "grid_area": null,
      "grid_auto_columns": null,
      "grid_auto_flow": null,
      "grid_auto_rows": null,
      "grid_column": null,
      "grid_gap": null,
      "grid_row": null,
      "grid_template_areas": null,
      "grid_template_columns": null,
      "grid_template_rows": null,
      "height": "50px",
      "justify_content": null,
      "justify_items": null,
      "left": null,
      "margin": null,
      "max_height": null,
      "max_width": null,
      "min_height": null,
      "min_width": null,
      "object_fit": null,
      "object_position": null,
      "order": null,
      "overflow": null,
      "overflow_x": null,
      "overflow_y": null,
      "padding": null,
      "right": null,
      "top": null,
      "visibility": null,
      "width": "30%"
     }
    },
    "83ff5ebdd2f241caa14280068b371b76": {
     "model_module": "@jupyter-widgets/base",
     "model_module_version": "1.2.0",
     "model_name": "LayoutModel",
     "state": {
      "_model_module": "@jupyter-widgets/base",
      "_model_module_version": "1.2.0",
      "_model_name": "LayoutModel",
      "_view_count": null,
      "_view_module": "@jupyter-widgets/base",
      "_view_module_version": "1.2.0",
      "_view_name": "LayoutView",
      "align_content": null,
      "align_items": null,
      "align_self": null,
      "border": null,
      "bottom": null,
      "display": null,
      "flex": null,
      "flex_flow": null,
      "grid_area": null,
      "grid_auto_columns": null,
      "grid_auto_flow": null,
      "grid_auto_rows": null,
      "grid_column": null,
      "grid_gap": null,
      "grid_row": null,
      "grid_template_areas": null,
      "grid_template_columns": null,
      "grid_template_rows": null,
      "height": "50px",
      "justify_content": null,
      "justify_items": null,
      "left": null,
      "margin": null,
      "max_height": null,
      "max_width": null,
      "min_height": null,
      "min_width": null,
      "object_fit": null,
      "object_position": null,
      "order": null,
      "overflow": null,
      "overflow_x": null,
      "overflow_y": null,
      "padding": null,
      "right": null,
      "top": null,
      "visibility": null,
      "width": "30%"
     }
    },
    "991836d613e1414aa74a8969003a9345": {
     "model_module": "@jupyter-widgets/base",
     "model_module_version": "1.2.0",
     "model_name": "LayoutModel",
     "state": {
      "_model_module": "@jupyter-widgets/base",
      "_model_module_version": "1.2.0",
      "_model_name": "LayoutModel",
      "_view_count": null,
      "_view_module": "@jupyter-widgets/base",
      "_view_module_version": "1.2.0",
      "_view_name": "LayoutView",
      "align_content": null,
      "align_items": null,
      "align_self": null,
      "border": null,
      "bottom": null,
      "display": null,
      "flex": null,
      "flex_flow": null,
      "grid_area": null,
      "grid_auto_columns": null,
      "grid_auto_flow": null,
      "grid_auto_rows": null,
      "grid_column": null,
      "grid_gap": null,
      "grid_row": null,
      "grid_template_areas": null,
      "grid_template_columns": null,
      "grid_template_rows": null,
      "height": null,
      "justify_content": null,
      "justify_items": null,
      "left": null,
      "margin": null,
      "max_height": null,
      "max_width": null,
      "min_height": null,
      "min_width": null,
      "object_fit": null,
      "object_position": null,
      "order": null,
      "overflow": null,
      "overflow_x": null,
      "overflow_y": null,
      "padding": null,
      "right": null,
      "top": null,
      "visibility": null,
      "width": null
     }
    },
    "b552db2db1dd4617b580798e0570c8f6": {
     "model_module": "@jupyter-widgets/controls",
     "model_module_version": "1.5.0",
     "model_name": "DropdownModel",
     "state": {
      "_dom_classes": [],
      "_model_module": "@jupyter-widgets/controls",
      "_model_module_version": "1.5.0",
      "_model_name": "DropdownModel",
      "_options_labels": [
       "Pixel Wise",
       "Units Wise"
      ],
      "_view_count": null,
      "_view_module": "@jupyter-widgets/controls",
      "_view_module_version": "1.5.0",
      "_view_name": "DropdownView",
      "description": "Image",
      "description_tooltip": null,
      "disabled": false,
      "index": 1,
      "layout": "IPY_MODEL_79995df6565e4386b0ae4147a7aee564",
      "style": "IPY_MODEL_59d94447ddd6427fb453f9d23771c02c"
     }
    }
   }
  }
 },
 "nbformat": 4,
 "nbformat_minor": 5
}
